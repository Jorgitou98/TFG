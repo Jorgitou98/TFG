{
  "nbformat": 4,
  "nbformat_minor": 0,
  "metadata": {
    "colab": {
      "name": "modelosSobreDatos.ipynb",
      "provenance": [],
      "collapsed_sections": []
    },
    "kernelspec": {
      "name": "python3",
      "display_name": "Python 3"
    },
    "language_info": {
      "name": "python"
    }
  },
  "cells": [
    {
      "cell_type": "markdown",
      "metadata": {
        "id": "D2yvxnFVZjCy"
      },
      "source": [
        "Bibliotecas"
      ]
    },
    {
      "cell_type": "code",
      "metadata": {
        "id": "klaogUn4jdEr"
      },
      "source": [
        "import pandas as pd\n",
        "import numpy as np\n",
        "from sklearn.neural_network import MLPClassifier\n",
        "from sklearn.metrics import f1_score\n",
        "from sklearn.metrics import classification_report\n",
        "from sklearn.linear_model import LogisticRegression\n",
        "from sklearn.model_selection import train_test_split\n",
        "from sklearn.metrics import confusion_matrix\n",
        "from sklearn.utils.multiclass import unique_labels\n",
        "import matplotlib.pyplot as plt"
      ],
      "execution_count": 3,
      "outputs": []
    },
    {
      "cell_type": "markdown",
      "metadata": {
        "id": "UFmOjTF9ZtGt"
      },
      "source": [
        "Carga del dataset"
      ]
    },
    {
      "cell_type": "code",
      "metadata": {
        "id": "-EH37JnpZnHO"
      },
      "source": [
        "\n",
        "df = pd.read_csv(\"/content/drive/MyDrive/TFG/metricas\")"
      ],
      "execution_count": 4,
      "outputs": []
    },
    {
      "cell_type": "code",
      "metadata": {
        "colab": {
          "base_uri": "https://localhost:8080/"
        },
        "id": "xzZF69Swkcbx",
        "outputId": "3463d08f-dbe9-4f1d-e268-d5748791e184"
      },
      "source": [
        "df.shape"
      ],
      "execution_count": 5,
      "outputs": [
        {
          "output_type": "execute_result",
          "data": {
            "text/plain": [
              "(4100668, 4)"
            ]
          },
          "metadata": {
            "tags": []
          },
          "execution_count": 5
        }
      ]
    },
    {
      "cell_type": "markdown",
      "metadata": {
        "id": "dfpXxJ01ZtvV"
      },
      "source": [
        "Separamos variables y clase a predecir"
      ]
    },
    {
      "cell_type": "code",
      "metadata": {
        "id": "UAE9jauokflA"
      },
      "source": [
        "X = df.loc[:,['Repetitividad', 'Disticion de Pares']]\n",
        "Y = df.loc[:,['Clase']]"
      ],
      "execution_count": 6,
      "outputs": []
    },
    {
      "cell_type": "code",
      "metadata": {
        "id": "esgJWyOOkmpA"
      },
      "source": [
        "X_train, X_test, y_train, y_test = train_test_split(X, Y, test_size=0.33, random_state=0)"
      ],
      "execution_count": 7,
      "outputs": []
    },
    {
      "cell_type": "markdown",
      "metadata": {
        "id": "elltTw2DZ89t"
      },
      "source": [
        "Comprobamos el buen balanceo entre las dos clases en la partición "
      ]
    },
    {
      "cell_type": "code",
      "metadata": {
        "colab": {
          "base_uri": "https://localhost:8080/"
        },
        "id": "iT433BLelX_v",
        "outputId": "a65c2a08-1baa-478b-a883-231f07242adc"
      },
      "source": [
        "dataTrain = np.sum(y_train.values == 'Dataset')/len(y_train)*100\n",
        "dataTest = np.sum(y_test.values == 'Dataset')/len(y_test)*100\n",
        "print('Porcentaje dataset train:', dataTrain, '%')\n",
        "print('Porcentaje dataset test:', dataTest, '%')"
      ],
      "execution_count": 13,
      "outputs": [
        {
          "output_type": "stream",
          "text": [
            "Porcentaje dataset train: 50.01210214428158 %\n",
            "Porcentaje dataset test: 49.975428994968304 %\n"
          ],
          "name": "stdout"
        }
      ]
    },
    {
      "cell_type": "code",
      "metadata": {
        "colab": {
          "base_uri": "https://localhost:8080/"
        },
        "id": "N63INQiTlhQw",
        "outputId": "433ba279-2c83-4928-8b06-a31474e394e3"
      },
      "source": [
        "len(X_test)"
      ],
      "execution_count": null,
      "outputs": [
        {
          "output_type": "execute_result",
          "data": {
            "text/plain": [
              "1353221"
            ]
          },
          "metadata": {
            "tags": []
          },
          "execution_count": 6
        }
      ]
    },
    {
      "cell_type": "markdown",
      "metadata": {
        "id": "zNn_Mhseanvl"
      },
      "source": [
        "Entrenamos un red neuronal con 3 capas de 50 neuronas y un parametro de aprendizaje muy pequeño ($10^{-7}$)"
      ]
    },
    {
      "cell_type": "code",
      "metadata": {
        "id": "cv1y4f39k0OR"
      },
      "source": [
        "regul_param = 10.0 ** -7 \n",
        "clf=MLPClassifier(hidden_layer_sizes=(50,50,50 ), activation='relu', solver='adam', alpha=regul_param, batch_size='auto', \n",
        "             learning_rate='constant', learning_rate_init=0.001, max_iter=500, random_state = 333).fit(X_train, y_train.values.ravel())"
      ],
      "execution_count": null,
      "outputs": []
    },
    {
      "cell_type": "markdown",
      "metadata": {
        "id": "sUX_ZG_EawPN"
      },
      "source": [
        "Evalamos la red con el conjunto de entrenamiento"
      ]
    },
    {
      "cell_type": "code",
      "metadata": {
        "id": "HhLj-0u_ISxW"
      },
      "source": [
        "y_test_pred = clf.predict(X_test)"
      ],
      "execution_count": null,
      "outputs": []
    },
    {
      "cell_type": "code",
      "metadata": {
        "colab": {
          "base_uri": "https://localhost:8080/"
        },
        "id": "t076HgLjk5zm",
        "outputId": "790796ab-ce1e-4d7f-9d51-191b70147e5d"
      },
      "source": [
        "print(classification_report(y_test, y_test_pred))"
      ],
      "execution_count": null,
      "outputs": [
        {
          "output_type": "stream",
          "text": [
            "                precision    recall  f1-score   support\n",
            "\n",
            "Complementario       0.92      0.92      0.92    676943\n",
            "       Dataset       0.92      0.92      0.92    676278\n",
            "\n",
            "      accuracy                           0.92   1353221\n",
            "     macro avg       0.92      0.92      0.92   1353221\n",
            "  weighted avg       0.92      0.92      0.92   1353221\n",
            "\n"
          ],
          "name": "stdout"
        }
      ]
    },
    {
      "cell_type": "code",
      "metadata": {
        "id": "aR8NI75Es_hF"
      },
      "source": [
        "# Función extraída de\n",
        "# https://scikit-learn.org/stable/auto_examples/model_selection/plot_confusion_matrix.html\n",
        "def plot_confusion_matrix(y_true, y_pred,\n",
        "                          normalize=False,\n",
        "                          title=None,\n",
        "                          cmap=plt.cm.Blues):\n",
        "    \"\"\"\n",
        "    This function prints and plots the confusion matrix.\n",
        "    Normalization can be applied by setting `normalize=True`.\n",
        "    \"\"\"\n",
        "    if not title:\n",
        "        if normalize:\n",
        "            title = 'Matriz de confusión normalizada'\n",
        "        else:\n",
        "            title = 'Matriz de confusión sin normalizar'\n",
        "\n",
        "    # Compute confusion matrix\n",
        "    cm = confusion_matrix(y_true, y_pred)\n",
        "    # Only use the labels that appear in the data\n",
        "    classes = unique_labels(y_true, y_pred)\n",
        "    if normalize:\n",
        "        cm = cm.astype('float') / cm.sum(axis=1)[:, np.newaxis]\n",
        "        print(\"Matriz de confusión normalizada\")\n",
        "    else:\n",
        "        print('Matriz de confusión sin normalizar')\n",
        "\n",
        "    print(cm)\n",
        "\n",
        "    fig, ax = plt.subplots()\n",
        "    im = ax.imshow(cm, interpolation='nearest', cmap=cmap)\n",
        "    ax.figure.colorbar(im, ax=ax)\n",
        "    # We want to show all ticks...\n",
        "    ax.set(xticks=np.arange(cm.shape[1]),\n",
        "           yticks=np.arange(cm.shape[0]),\n",
        "           # ... and label them with the respective list entries\n",
        "           xticklabels=classes, yticklabels=classes,\n",
        "           title=title,\n",
        "           ylabel='Etiqueta correcta',\n",
        "           xlabel='Etiqueta predicha')\n",
        "\n",
        "    # Rotate the tick labels and set their alignment.\n",
        "    plt.setp(ax.get_xticklabels(), rotation=45, ha=\"right\",\n",
        "             rotation_mode=\"anchor\")\n",
        "\n",
        "    # Loop over data dimensions and create text annotations.\n",
        "    fmt = '.2f' if normalize else 'd'\n",
        "    thresh = cm.max() / 2.\n",
        "    for i in range(cm.shape[0]):\n",
        "        for j in range(cm.shape[1]):\n",
        "            ax.text(j, i, format(cm[i, j], fmt),\n",
        "                    ha=\"center\", va=\"center\",\n",
        "                    color=\"white\" if cm[i, j] > thresh else \"black\")\n",
        "    fig.tight_layout()\n",
        "    if normalize:\n",
        "        title+= 'normalizada'\n",
        "    plt.savefig(title+'.pdf')\n",
        "    return ax\n"
      ],
      "execution_count": null,
      "outputs": []
    },
    {
      "cell_type": "code",
      "metadata": {
        "colab": {
          "base_uri": "https://localhost:8080/",
          "height": 696
        },
        "id": "H3O4uNKwtEtr",
        "outputId": "1ae9c33a-6101-4ec5-b178-ab89beee01d0"
      },
      "source": [
        "plot_confusion_matrix(y_test, y_test_pred, normalize = False)\n",
        "plot_confusion_matrix(y_test, y_test_pred, normalize = True)"
      ],
      "execution_count": null,
      "outputs": [
        {
          "output_type": "stream",
          "text": [
            "Matriz de confusión sin normalizar\n",
            "[[618889  58054]\n",
            " [ 57836 618442]]\n",
            "Matriz de confusión normalizada\n",
            "[[0.91424093 0.08575907]\n",
            " [0.08552104 0.91447896]]\n"
          ],
          "name": "stdout"
        },
        {
          "output_type": "execute_result",
          "data": {
            "text/plain": [
              "<matplotlib.axes._subplots.AxesSubplot at 0x7fc915997c90>"
            ]
          },
          "metadata": {
            "tags": []
          },
          "execution_count": 56
        },
        {
          "output_type": "display_data",
          "data": {
            "image/png": "[encoded data removed]",
            "text/plain": [
              "<Figure size 432x288 with 2 Axes>"
            ]
          },
          "metadata": {
            "tags": [],
            "needs_background": "light"
          }
        },
        {
          "output_type": "display_data",
          "data": {
            "image/png": "[encoded data removed]",
            "text/plain": [
              "<Figure size 432x288 with 2 Axes>"
            ]
          },
          "metadata": {
            "tags": [],
            "needs_background": "light"
          }
        }
      ]
    },
    {
      "cell_type": "markdown",
      "metadata": {
        "id": "FjtqLP9WjZ_g"
      },
      "source": [
        "Pruebas con un modelo de regresión logística"
      ]
    },
    {
      "cell_type": "code",
      "metadata": {
        "id": "4qwgNpF4jdL-"
      },
      "source": [
        "clf = LogisticRegression(random_state=333).fit(X_train, y_train.values.ravel())"
      ],
      "execution_count": 17,
      "outputs": []
    },
    {
      "cell_type": "markdown",
      "metadata": {
        "id": "i08P-H0Ab_zd"
      },
      "source": [
        "Evaluamos la regresión logística con el conjunto de test"
      ]
    },
    {
      "cell_type": "code",
      "metadata": {
        "id": "hTrPTq4ykFjm"
      },
      "source": [
        "y_test_pred = clf.predict(X_test)"
      ],
      "execution_count": 18,
      "outputs": []
    },
    {
      "cell_type": "code",
      "metadata": {
        "colab": {
          "base_uri": "https://localhost:8080/"
        },
        "id": "AzhzJKV2kLGO",
        "outputId": "82c85a12-ff90-4ed4-d6d5-107499f02c28"
      },
      "source": [
        "print(classification_report(y_test, y_test_pred))"
      ],
      "execution_count": 19,
      "outputs": [
        {
          "output_type": "stream",
          "text": [
            "                precision    recall  f1-score   support\n",
            "\n",
            "Complementario       0.91      0.91      0.91    676943\n",
            "       Dataset       0.91      0.91      0.91    676278\n",
            "\n",
            "      accuracy                           0.91   1353221\n",
            "     macro avg       0.91      0.91      0.91   1353221\n",
            "  weighted avg       0.91      0.91      0.91   1353221\n",
            "\n"
          ],
          "name": "stdout"
        }
      ]
    },
    {
      "cell_type": "code",
      "metadata": {
        "colab": {
          "base_uri": "https://localhost:8080/",
          "height": 696
        },
        "id": "q0oBlvkF2OG1",
        "outputId": "a2a74513-157c-4627-ff2f-011f0abeb37f"
      },
      "source": [
        "plot_confusion_matrix(y_test, y_test_pred, normalize = False, title = 'Regresión logística métricas')\n",
        "plot_confusion_matrix(y_test, y_test_pred, normalize = True, title = 'Regresión logística métricas')"
      ],
      "execution_count": null,
      "outputs": [
        {
          "output_type": "stream",
          "text": [
            "Matriz de confusión sin normalizar\n",
            "[[618889  58054]\n",
            " [ 57836 618442]]\n",
            "Matriz de confusión normalizada\n",
            "[[0.91424093 0.08575907]\n",
            " [0.08552104 0.91447896]]\n"
          ],
          "name": "stdout"
        },
        {
          "output_type": "execute_result",
          "data": {
            "text/plain": [
              "<matplotlib.axes._subplots.AxesSubplot at 0x7fc9157e7fd0>"
            ]
          },
          "metadata": {
            "tags": []
          },
          "execution_count": 57
        },
        {
          "output_type": "display_data",
          "data": {
            "image/png": "[encoded data removed]",
            "text/plain": [
              "<Figure size 432x288 with 2 Axes>"
            ]
          },
          "metadata": {
            "tags": [],
            "needs_background": "light"
          }
        },
        {
          "output_type": "display_data",
          "data": {
            "image/png": "[encoded data removed]",
            "text/plain": [
              "<Figure size 432x288 with 2 Axes>"
            ]
          },
          "metadata": {
            "tags": [],
            "needs_background": "light"
          }
        }
      ]
    },
    {
      "cell_type": "markdown",
      "metadata": {
        "id": "lyqeZ4LjcL9v"
      },
      "source": [
        "Observamos los pesos de la regresión logística"
      ]
    },
    {
      "cell_type": "code",
      "metadata": {
        "colab": {
          "base_uri": "https://localhost:8080/"
        },
        "id": "fopEbbfJlcos",
        "outputId": "6d32fe58-b30a-4132-b1f6-aa0bc5f8dd3b"
      },
      "source": [
        "print(clf.coef_)"
      ],
      "execution_count": null,
      "outputs": [
        {
          "output_type": "stream",
          "text": [
            "[[ 0.17359278 -0.16838338]]\n"
          ],
          "name": "stdout"
        }
      ]
    }
  ]
}