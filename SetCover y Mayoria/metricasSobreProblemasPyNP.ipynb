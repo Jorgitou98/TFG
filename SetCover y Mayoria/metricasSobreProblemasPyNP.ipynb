{
  "nbformat": 4,
  "nbformat_minor": 0,
  "metadata": {
    "colab": {
      "name": "metricasSobreProblemasPyNP.ipynb",
      "provenance": [],
      "collapsed_sections": []
    },
    "kernelspec": {
      "display_name": "Python 3",
      "name": "python3"
    },
    "language_info": {
      "name": "python"
    }
  },
  "cells": [
    {
      "cell_type": "code",
      "metadata": {
        "id": "3-rIcHTA-5aR"
      },
      "source": [
        "%matplotlib inline\n",
        "from matplotlib import pyplot as plt\n",
        "import numpy as np\n",
        "import random as rand\n",
        "import seaborn as sns\n",
        "import pandas as pd\n",
        "import math\n",
        "import pandas as pd\n",
        "from sklearn.linear_model import LogisticRegression\n",
        "from sklearn.model_selection import train_test_split"
      ],
      "execution_count": null,
      "outputs": []
    },
    {
      "cell_type": "code",
      "metadata": {
        "id": "TI_jD2JDS3n7"
      },
      "source": [
        "def convertirACadena(num):\n",
        "    return '{:032b}'.format(int(num))\n",
        "\n",
        "def convEnt(num):\n",
        "    return '{:05b}'.format(int(num))\n",
        "\n",
        "def generaComplementarias(numero):\n",
        "    generados = 0\n",
        "    funcComp = []\n",
        "    while generados < numero:\n",
        "        funcRand = rand.randint(0, 2**32-1)\n",
        "        if funcRand not in funciones:\n",
        "            funcComp.append(funcRand)\n",
        "            generados += 1\n",
        "    return funcComp\n",
        "\n",
        "def leeFunciones(nombreFichero):\n",
        "    funciones = np.genfromtxt(nombreFichero, dtype = float, usecols=0, unpack=True)\n",
        "    funcionesStr = np.genfromtxt(nombreFichero, dtype = str, usecols=1, unpack=True)\n",
        "    return funciones, funcionesStr\n",
        "\n",
        "def normaliza(valores, minimo, maximo):\n",
        "    return (valores - minimo) /(maximo - minimo)\n",
        "\n",
        "def puntuacionRepeticiones(segmentos):\n",
        "    puntuacion = 0\n",
        "    for elem in set(segmentos):\n",
        "        apariciones = segmentos.count(elem)\n",
        "        if apariciones > 1:\n",
        "            puntuacion += apariciones*len(elem)\n",
        "    return puntuacion\n",
        "\n",
        "def repetitividad(s):\n",
        "    puntRepGlobal = 0\n",
        "    posActual = 0\n",
        "    segmentos = []\n",
        "    for num in [4,4,4,4,4,4,4,4]:\n",
        "        segmentos.append(s[posActual:posActual+num])\n",
        "        posActual += num\n",
        "    return puntuacionRepeticiones(segmentos)\n",
        "\n",
        "def calculaRepetitividades(funciones):\n",
        "    return np.array([repetitividad(convertirACadena(s)) for s in funciones])\n",
        "\n",
        "def cerosFuncion(funcion):\n",
        "    return [i for i in range(32) if funcion[i] == '0']\n",
        "\n",
        "def unosFuncion(funcion):\n",
        "    return [i for i in range(32) if funcion[i] == '1']\n",
        "\n",
        "def diferenciaPar(par1,par2):\n",
        "    diferencias1 = \"\"\n",
        "    diferencias2 = \"\"\n",
        "    contexto = \"\"\n",
        "    posiciones = []\n",
        "    for i in range(len(par1)):\n",
        "        if par1[i] != par2[i]:\n",
        "            diferencias1 += par1[i]\n",
        "            diferencias2 += par2[i]\n",
        "            posiciones.append(i)\n",
        "        else:\n",
        "            contexto += par1[i]\n",
        "    return diferencias1, diferencias2, posiciones, par1, par2, contexto\n",
        "\n",
        "def coincidenPar(cad1,cad2):\n",
        "    return sum(map(lambda x,y: x==y, cad1, cad2))\n",
        "\n",
        "def puntuacionDistParesFuncion(funcion):\n",
        "    saca0 = cerosFuncion(funcion)\n",
        "    saca1 = unosFuncion(funcion)\n",
        "    punt = 0\n",
        "    distintosAlMenos2 = []\n",
        "    for fun0 in saca0:\n",
        "        for fun1 in saca1:\n",
        "            dif1, dif2, pos, par1, par2, contexto = diferenciaPar(convEnt(fun0),convEnt(fun1))\n",
        "            distintosAlMenos2.append((dif1,dif2,pos,par1,par2,contexto))\n",
        "    cruces = 0\n",
        "    for i in range(len(distintosAlMenos2)):\n",
        "        dif1, dif2, pos, par1, par2, contexto = distintosAlMenos2[i]\n",
        "        for j in range(i, len(distintosAlMenos2)):\n",
        "            dif1bis, dif2bis, posbis, par1bis, par2bis, contextobis = distintosAlMenos2[j]\n",
        "            if dif1 == dif2bis and dif2 == dif1bis and pos == posbis:\n",
        "                    cruces += 5-len(dif1)\n",
        "                    cruces += coincidenPar(contexto,contextobis)/len(contexto)\n",
        "    return cruces\n",
        "\n",
        "def puntuacionDistPares(funciones):\n",
        "    return np.array([puntuacionDistParesFuncion(convertirACadena(funcion)) for funcion in funciones])\n"
      ],
      "execution_count": null,
      "outputs": []
    },
    {
      "cell_type": "markdown",
      "metadata": {
        "id": "3kM9Owp9ZASj"
      },
      "source": [
        "Repetitividad Cliqué"
      ]
    },
    {
      "cell_type": "code",
      "metadata": {
        "id": "Z1FHHkbeS9YO"
      },
      "source": [
        "pdClique = pd.read_csv(\"/content/drive/MyDrive/TFG/salidaMuestraDificilK4.csv\")"
      ],
      "execution_count": null,
      "outputs": []
    },
    {
      "cell_type": "code",
      "metadata": {
        "id": "EKn1-_VR_Md3"
      },
      "source": [
        "funcionesClique = np.array(list(map(lambda lista: ''.join(map(lambda elem: str(elem), lista)), pdClique.values)))"
      ],
      "execution_count": null,
      "outputs": []
    },
    {
      "cell_type": "code",
      "metadata": {
        "id": "ngwtyi4ZUz24"
      },
      "source": [
        "repetitividadClique = calculaRepetitividades(funcionesClique)"
      ],
      "execution_count": null,
      "outputs": []
    },
    {
      "cell_type": "code",
      "metadata": {
        "colab": {
          "base_uri": "https://localhost:8080/"
        },
        "id": "FpqATsdXYApG",
        "outputId": "244b1585-42c0-4bc7-f14d-8c41f3f10ede"
      },
      "source": [
        "print('Media de repetitividad de Cliqué:', np.mean(repetitividadClique))"
      ],
      "execution_count": null,
      "outputs": [
        {
          "output_type": "stream",
          "text": [
            "Media de repetitividad de Cliqué: 12.227972152010997\n"
          ],
          "name": "stdout"
        }
      ]
    },
    {
      "cell_type": "markdown",
      "metadata": {
        "id": "QV36rznXY7cr"
      },
      "source": [
        "Repetitividad paridad"
      ]
    },
    {
      "cell_type": "code",
      "metadata": {
        "id": "-U27GC4_Yzzz"
      },
      "source": [
        "pdParidad = pd.read_csv(\"/content/drive/MyDrive/TFG/muestrasDificilsalidaParidad.csv\")"
      ],
      "execution_count": null,
      "outputs": []
    },
    {
      "cell_type": "code",
      "metadata": {
        "id": "Qvn7MQ8HZPbq"
      },
      "source": [
        "funcionesParidad = np.array(list(map(lambda lista: ''.join(map(lambda elem: str(elem), lista)), pdParidad.values)))"
      ],
      "execution_count": null,
      "outputs": []
    },
    {
      "cell_type": "code",
      "metadata": {
        "id": "SayjUSUjZdox"
      },
      "source": [
        "repetitividadParidad = calculaRepetitividades(funcionesParidad)"
      ],
      "execution_count": null,
      "outputs": []
    },
    {
      "cell_type": "code",
      "metadata": {
        "id": "AADsYZNbZiap",
        "colab": {
          "base_uri": "https://localhost:8080/"
        },
        "outputId": "ff56ffc9-30a1-44a2-eaeb-543e6011010e"
      },
      "source": [
        "print('Media de repetividad de Paridad:', np.mean(repetitividadParidad))"
      ],
      "execution_count": null,
      "outputs": [
        {
          "output_type": "stream",
          "text": [
            "Media de repetividad de Paridad: 10.4638\n"
          ],
          "name": "stdout"
        }
      ]
    },
    {
      "cell_type": "markdown",
      "metadata": {
        "id": "ZcT40MVmc_MW"
      },
      "source": [
        "Distinción pares Clique"
      ]
    },
    {
      "cell_type": "code",
      "metadata": {
        "id": "EV9zyMMlctY3"
      },
      "source": [
        "crucesClique = puntuacionDistPares(funcionesClique)"
      ],
      "execution_count": null,
      "outputs": []
    },
    {
      "cell_type": "code",
      "metadata": {
        "colab": {
          "base_uri": "https://localhost:8080/"
        },
        "id": "pthoNfXEdO4-",
        "outputId": "f7a62342-e548-4784-d078-3a58adfb683a"
      },
      "source": [
        "print('Media distincion pares Clique:', np.mean(crucesClique))"
      ],
      "execution_count": null,
      "outputs": [
        {
          "output_type": "stream",
          "text": [
            "Media distincion pares Clique: 629.2620652447047\n"
          ],
          "name": "stdout"
        }
      ]
    },
    {
      "cell_type": "markdown",
      "metadata": {
        "id": "OJ10Qz1-dU_l"
      },
      "source": [
        "Distinción pares Paridad"
      ]
    },
    {
      "cell_type": "code",
      "metadata": {
        "id": "AGrec_4Edcql"
      },
      "source": [
        "crucesParidad = puntuacionDistPares(funcionesParidad)"
      ],
      "execution_count": null,
      "outputs": []
    },
    {
      "cell_type": "code",
      "metadata": {
        "colab": {
          "base_uri": "https://localhost:8080/"
        },
        "id": "ALTXPWU3dhft",
        "outputId": "698f2528-2894-4d56-c7b9-89707135c8d9"
      },
      "source": [
        "print('Media distincion pares Paridad:', np.mean(crucesParidad))"
      ],
      "execution_count": null,
      "outputs": [
        {
          "output_type": "stream",
          "text": [
            "Media distincion pares Paridad: 600.6745250000001\n"
          ],
          "name": "stdout"
        }
      ]
    },
    {
      "cell_type": "markdown",
      "metadata": {
        "id": "XDxwHDylACUl"
      },
      "source": [
        "Regresión logística Clique y Paridad"
      ]
    },
    {
      "cell_type": "code",
      "metadata": {
        "id": "v3Ih539x_-7f"
      },
      "source": [
        "df = pd.read_csv(\"/content/drive/MyDrive/TFG/metricas\")\n",
        "X = df.loc[:,['Repetitividad', 'Disticion de Pares']]\n",
        "Y = df.loc[:,['Clase']]\n",
        "clf = LogisticRegression(random_state=333).fit(X, Y.values.ravel())"
      ],
      "execution_count": null,
      "outputs": []
    },
    {
      "cell_type": "code",
      "metadata": {
        "id": "Z7VtsxBeAy_N"
      },
      "source": [
        "y_test_predClique = clf.predict(pd.DataFrame({'Repetitividad':repetitividadClique, 'Disticion de Pares':crucesClique}))"
      ],
      "execution_count": null,
      "outputs": []
    },
    {
      "cell_type": "code",
      "metadata": {
        "colab": {
          "base_uri": "https://localhost:8080/"
        },
        "id": "3rEMuB3tB1GK",
        "outputId": "523c9b7f-a688-436e-ae2d-b34feb86e48a"
      },
      "source": [
        "print('Respuesta \"Complementario\" con métricas en Cliqué:', np.sum(y_test_predClique == 'Complementario')/len(y_test_predClique)*100, '%')"
      ],
      "execution_count": null,
      "outputs": [
        {
          "output_type": "stream",
          "text": [
            "Respuesta \"Complementario\" con métricas en Cliqué: 52.42190013746619 %\n"
          ],
          "name": "stdout"
        }
      ]
    },
    {
      "cell_type": "code",
      "metadata": {
        "id": "Gd4GW5unDLqX"
      },
      "source": [
        "y_test_predParidad = clf.predict(pd.DataFrame({'Repetitividad':repetitividadParidad, 'Disticion de Pares':crucesParidad}))"
      ],
      "execution_count": null,
      "outputs": []
    },
    {
      "cell_type": "code",
      "metadata": {
        "colab": {
          "base_uri": "https://localhost:8080/"
        },
        "id": "yUxiw7yyDUru",
        "outputId": "dba08bf7-c8a2-4183-cae8-5b2c83278130"
      },
      "source": [
        "print('Respuesta \"Complementario\" con métricas en Paridad:', np.sum(y_test_predParidad == 'Complementario')/len(y_test_predParidad)*100, '%')"
      ],
      "execution_count": null,
      "outputs": [
        {
          "output_type": "stream",
          "text": [
            "Respuesta \"Complementario\" con métricas en Paridad: 46.42000000000001 %\n"
          ],
          "name": "stdout"
        }
      ]
    },
    {
      "cell_type": "markdown",
      "metadata": {
        "id": "D66EER2aiNL9"
      },
      "source": [
        "Repetitividad Set Cover"
      ]
    },
    {
      "cell_type": "code",
      "metadata": {
        "id": "Az619lxdiSik"
      },
      "source": [
        "pdSetCover = pd.read_csv(\"/content/drive/MyDrive/TFG/muestrasDificilsalidaSetCoverMin1.csv\")"
      ],
      "execution_count": null,
      "outputs": []
    },
    {
      "cell_type": "code",
      "metadata": {
        "colab": {
          "base_uri": "https://localhost:8080/"
        },
        "id": "2nJUA9YFi_r7",
        "outputId": "f0a4af3b-2651-41dc-ba2e-7e45d0472531"
      },
      "source": [
        "funcionesSetCover = np.array(list(map(lambda lista: ''.join(map(lambda elem: str(elem), lista)), pdSetCover.values)))"
      ],
      "execution_count": null,
      "outputs": [
        {
          "output_type": "execute_result",
          "data": {
            "text/plain": [
              "array(['00100000000010101011100110101101',\n",
              "       '10101001001101000110100010110000',\n",
              "       '11010111101100001010101000010111', ...,\n",
              "       '00001000001101001111000100111011',\n",
              "       '11110100010011100011001110100001',\n",
              "       '11011001010001110110100011100000'], dtype='<U32')"
            ]
          },
          "metadata": {
            "tags": []
          },
          "execution_count": 4
        }
      ]
    },
    {
      "cell_type": "code",
      "metadata": {
        "id": "v-fWMlH8jIhS"
      },
      "source": [
        "periodicidadesSetCover = calculaPeriodicidadesSumaMejores(funcionesSetCover, combinaciones)"
      ],
      "execution_count": null,
      "outputs": []
    },
    {
      "cell_type": "code",
      "metadata": {
        "colab": {
          "base_uri": "https://localhost:8080/"
        },
        "id": "XyXMt7x5jRHh",
        "outputId": "9aa7e25f-2499-48d7-f58a-598107379958"
      },
      "source": [
        "print('Media periodicidad y repetición de SetCover:', np.mean(periodicidadesSetCover))"
      ],
      "execution_count": null,
      "outputs": [
        {
          "output_type": "stream",
          "text": [
            "Media periodicidad y repetición de SetCover: 22.445084327437268\n"
          ],
          "name": "stdout"
        }
      ]
    },
    {
      "cell_type": "markdown",
      "metadata": {
        "id": "eCGIfKaijZ75"
      },
      "source": [
        "Repetitividad Mayoría"
      ]
    },
    {
      "cell_type": "code",
      "metadata": {
        "id": "egnWDGwYjeex"
      },
      "source": [
        "pdMayoria = pd.read_csv(\"/content/drive/MyDrive/TFG/muestrasDificilsalidaMayoria.csv\")"
      ],
      "execution_count": null,
      "outputs": []
    },
    {
      "cell_type": "code",
      "metadata": {
        "id": "FABSWP-tjomK"
      },
      "source": [
        "funcionesMayoria = np.array(list(map(lambda lista: ''.join(map(lambda elem: str(elem), lista)), pdMayoria.values)))"
      ],
      "execution_count": null,
      "outputs": []
    },
    {
      "cell_type": "code",
      "metadata": {
        "id": "pYmfiXcijxIH"
      },
      "source": [
        "periodicidadesMayoria = calculaPeriodicidadesSumaMejores(funcionesMayoria, combinaciones)"
      ],
      "execution_count": null,
      "outputs": []
    },
    {
      "cell_type": "code",
      "metadata": {
        "colab": {
          "base_uri": "https://localhost:8080/"
        },
        "id": "7Uhjl5kEkBJO",
        "outputId": "d588e32a-c532-4b44-efc0-2c8c2a6d5636"
      },
      "source": [
        "print('Media periodicidad y repetición de mayoría:', np.mean(periodicidadesMayoria))"
      ],
      "execution_count": null,
      "outputs": [
        {
          "output_type": "stream",
          "text": [
            "Media periodicidad y repetición de mayoría: 19.113752830716777\n"
          ],
          "name": "stdout"
        }
      ]
    },
    {
      "cell_type": "markdown",
      "metadata": {
        "id": "iMe4SIcqkG23"
      },
      "source": [
        "Distincion pares Set Cover"
      ]
    },
    {
      "cell_type": "code",
      "metadata": {
        "colab": {
          "base_uri": "https://localhost:8080/"
        },
        "id": "vc88DWqlkmXd",
        "outputId": "82eec3eb-45d7-4bd7-9297-998369580266"
      },
      "source": [
        "crucesSetCover = dificultadCruces(funcionesSetCover, cuentaLong = True, muestra = False, usaContexto = True)\n",
        "print('Media distincion pares Set Cover:', np.mean(crucesSetCover))"
      ],
      "execution_count": null,
      "outputs": [
        {
          "output_type": "stream",
          "text": [
            "Media distincion pares Set Cover: 625.4670586344012\n"
          ],
          "name": "stdout"
        }
      ]
    },
    {
      "cell_type": "markdown",
      "metadata": {
        "id": "Lmqtj5uEky2d"
      },
      "source": [
        "Distincion pares Mayoría"
      ]
    },
    {
      "cell_type": "code",
      "metadata": {
        "colab": {
          "base_uri": "https://localhost:8080/"
        },
        "id": "xT-pVzojk4zs",
        "outputId": "1f5574ae-1b6d-4fc5-88d1-ce15b7315aa6"
      },
      "source": [
        "crucesMayoria = dificultadCruces(funcionesMayoria, cuentaLong = True, muestra = False, usaContexto = True)\n",
        "print('Media distincion pares Mayoria:', np.mean(crucesMayoria))"
      ],
      "execution_count": null,
      "outputs": [
        {
          "output_type": "stream",
          "text": [
            "Media distincion pares Mayoria: 629.4473639347599\n"
          ],
          "name": "stdout"
        }
      ]
    }
  ]
}